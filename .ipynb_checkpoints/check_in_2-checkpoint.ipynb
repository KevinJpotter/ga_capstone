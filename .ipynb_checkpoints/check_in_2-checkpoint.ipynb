{
 "cells": [
  {
   "cell_type": "markdown",
   "metadata": {},
   "source": [
    "# Requirements\n",
    "\n",
    "We expect a formatted and complete Jupyter Notebook by end of class on Wednesday April 24, 2019, which accomplishes the following:\n",
    "\n",
    "- Identifies which of the three proposals you outlined in your lightning talk you have chosen\n",
    "- Articulates the main goal of your project (your problem statement)\n",
    "- Outlines your proposed methods and models\n",
    "- Defines the risks & assumptions of your data\n",
    "- Revises initial goals & success criteria, as needed\n",
    "- Documents your data source\n",
    "- Performs & summarizes preliminary EDA of your data"
   ]
  },
  {
   "cell_type": "markdown",
   "metadata": {},
   "source": [
    "## Create a trading Algorithm\n",
    "\n",
    "Create a long / short trading algorithm using ESG (Environmental, Social, & Governance) stocks that executes trades either daily or weekly based on price relative to moving average, to generate long term positive returns.\n",
    "\n",
    "The model will take into account a number of features including open / closing price, moving averages, and potentially some text data.\n",
    "\n",
    "The meat of the work will include exploring mostly supervised learning models learned in class, as well as some other Jacob and I discussed. I will also look to explore Zipline, a python library for backtesting performance on models. I will use sharp ratio as the primary metric to measure performance across models.\n",
    "\n",
    "I will also look into exploring some unsupervised learning when it comes to stock selection as a way to improve performance."
   ]
  },
  {
   "cell_type": "markdown",
   "metadata": {},
   "source": [
    "## Data Gathering \n",
    "\n",
    "Data needed to perform analysis on each security is daily open price, closing price, high, low, stock split information, and dividend information.\n",
    "\n",
    "Most of the data freely available suffers from survivorship bias. I will look to procure data free of it but, may prove difficult. Potential sources for data include:\n",
    "\n",
    "- Finance.yahoo.com\n",
    "- HQuotes.com\n",
    "- Robinhood.com\n",
    "- CDIdata.com"
   ]
  }
 ],
 "metadata": {
  "kernelspec": {
   "display_name": "Python 3",
   "language": "python",
   "name": "python3"
  },
  "language_info": {
   "codemirror_mode": {
    "name": "ipython",
    "version": 3
   },
   "file_extension": ".py",
   "mimetype": "text/x-python",
   "name": "python",
   "nbconvert_exporter": "python",
   "pygments_lexer": "ipython3",
   "version": "3.6.8"
  }
 },
 "nbformat": 4,
 "nbformat_minor": 2
}
