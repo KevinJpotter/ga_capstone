{
 "cells": [
  {
   "cell_type": "code",
   "execution_count": 280,
   "metadata": {},
   "outputs": [],
   "source": [
    "from quantopian.pipeline.data import Fundamentals  \n",
    "from quantopian.interactive.data.psychsignal import aggregated_twitter_withretweets_stocktwits\n",
    "from quantopian.pipeline.data.sentdex import sentiment\n",
    "from quantopian.pipeline.data import factset\n",
    "from quantopian.pipeline.data.psychsignal import stocktwits\n",
    "from sklearn.preprocessing import StandardScaler"
   ]
  },
  {
   "cell_type": "code",
   "execution_count": 95,
   "metadata": {},
   "outputs": [],
   "source": [
    "from sklearn.linear_model import LinearRegression"
   ]
  },
  {
   "cell_type": "code",
   "execution_count": 96,
   "metadata": {},
   "outputs": [],
   "source": [
    "from quantopian.pipeline.data.builtin import USEquityPricing\n",
    "from quantopian.pipeline import factors, filters, classifiers, Pipeline\n",
    "from quantopian.research import run_pipeline\n",
    "from quantopian.pipeline.filters import QTradableStocksUS"
   ]
  },
  {
   "cell_type": "code",
   "execution_count": 138,
   "metadata": {},
   "outputs": [],
   "source": [
    "def price_pipeline():\n",
    "    universe = QTradableStocksUS() & (USEquityPricing.open.latest > 1)\n",
    "\n",
    "    market_cap = Fundamentals.market_cap.latest  \n",
    "    market_filter = market_cap.percentile_between(90,100,\n",
    "                                                    mask = universe)\n",
    "    \n",
    "    \n",
    "    return Pipeline(\n",
    "            columns = {\n",
    "            'market_cap' : market_cap,\n",
    "            },\n",
    "            screen = market_filter,\n",
    "            )\n",
    "    "
   ]
  },
  {
   "cell_type": "code",
   "execution_count": 139,
   "metadata": {
    "scrolled": true
   },
   "outputs": [],
   "source": [
    "result = run_pipeline(price_pipeline(), start_date = '05-01-2019', end_date = '05-01-2019')"
   ]
  },
  {
   "cell_type": "code",
   "execution_count": 140,
   "metadata": {},
   "outputs": [
    {
     "data": {
      "text/plain": [
       "214"
      ]
     },
     "execution_count": 140,
     "metadata": {},
     "output_type": "execute_result"
    }
   ],
   "source": [
    "len(result)"
   ]
  },
  {
   "cell_type": "code",
   "execution_count": 157,
   "metadata": {},
   "outputs": [],
   "source": [
    "# consider today as 05-01-2019\n",
    "df = get_pricing('AAPL',\n",
    "               end_date = '05-01-2019',\n",
    "               start_date = '05-01-2016',\n",
    "               fields = ['open_price', 'close_price'])"
   ]
  },
  {
   "cell_type": "code",
   "execution_count": 258,
   "metadata": {},
   "outputs": [],
   "source": [
    "# lin reg or 36 month\n",
    "X = df.index.values\n",
    "y = df['open_price']\n",
    "lr = LinearRegression()\n",
    "lr.fit(X.reshape(-1,1),y)"
   ]
  },
  {
   "cell_type": "code",
   "execution_count": 295,
   "metadata": {},
   "outputs": [],
   "source": [
    "#  drop last month and find 12 month\n",
    "new_df = df[21:272]\n",
    "X_2 = new_df.index.values.astype('float')\n",
    "y_2 = new_df['open_price']\n",
    "preds = lr.predict(X_2.reshape(-1,1))"
   ]
  },
  {
   "cell_type": "code",
   "execution_count": 291,
   "metadata": {
    "scrolled": true
   },
   "outputs": [
    {
     "name": "stderr",
     "output_type": "stream",
     "text": [
      "/usr/local/lib/python2.7/dist-packages/ipykernel_launcher.py:1: SettingWithCopyWarning: \n",
      "A value is trying to be set on a copy of a slice from a DataFrame.\n",
      "Try using .loc[row_indexer,col_indexer] = value instead\n",
      "\n",
      "See the caveats in the documentation: http://pandas.pydata.org/pandas-docs/stable/indexing.html#indexing-view-versus-copy\n",
      "  \"\"\"Entry point for launching an IPython kernel.\n"
     ]
    }
   ],
   "source": [
    "# find sum zscore\n",
    "new_df['diff'] = y_2 - preds\n",
    "new_df['zscore'] = (new_df['diff'] - new_df['diff'].mean())/new_df['diff'].std(ddof=0)\n",
    "sum(new_df['zscore'])"
   ]
  },
  {
   "cell_type": "code",
   "execution_count": 300,
   "metadata": {},
   "outputs": [],
   "source": [
    "MY_STOCKS = symbols(['SPY', 'EFA', 'BND', 'VNQ', 'GSG'])"
   ]
  },
  {
   "cell_type": "code",
   "execution_count": 302,
   "metadata": {},
   "outputs": [],
   "source": [
    "def linreg_pipline():\n",
    "    universe = Filters.StaticAssets(MY_STOCKS)\n",
    "    \n",
    "    \n",
    "    factor = []\n",
    "    for stock in MY_STOCKS:\n",
    "        df = get_pricing(stock,\n",
    "               end_date = '05-01-2019',\n",
    "               start_date = '05-01-2016',\n",
    "               fields = ['open_price', 'close_price'])\n",
    "        \n",
    "        X = df.index.values\n",
    "        y = df['open_price']\n",
    "        lr = LinearRegression()\n",
    "        lr.fit(X.reshape(-1,1),y)\n",
    "        \n",
    "        new_df = df[21:272]\n",
    "        X_2 = new_df.index.values.astype('float')\n",
    "        y_2 = new_df['open_price']\n",
    "        preds = lr.predict(X_2.reshape(-1,1))\n",
    "        \n",
    "        \n",
    "        new_df['diff'] = y_2 - preds\n",
    "        new_df['zscore'] = (new_df['diff'] - new_df['diff'].mean())/new_df['diff'].std(ddof=0)\n",
    "        factor.append(sum(new_df['zscore']))\n",
    "        \n",
    "    pip = Pipelin(\n",
    "    columns = {\n",
    "        'Z_scrore' : factor\n",
    "    },\n",
    "    screen = universe)\n",
    "    \n",
    "    return pipe"
   ]
  },
  {
   "cell_type": "code",
   "execution_count": null,
   "metadata": {},
   "outputs": [],
   "source": [
    "result = run_pipeline(linreg_pipelin(), start_date)"
   ]
  },
  {
   "cell_type": "code",
   "execution_count": 197,
   "metadata": {},
   "outputs": [],
   "source": [
    "import pandas as pd\n",
    "import numpy as np\n",
    "from statsmodels import regression\n",
    "import statsmodels.api as sm\n",
    "import matplotlib.pyplot as plt\n",
    "import math\n",
    "\n",
    "def linreg(X,Y):\n",
    "    # Running the linear regression\n",
    "    X = sm.add_constant(X)\n",
    "    \n",
    "    a = model.params[0]\n",
    "    b = model.params[1]\n",
    "    X = X[:, 1]\n",
    "\n",
    "    # Return summary of the regression and plot results\n",
    "    X2 = np.linspace(X.min(), X.max(), 100)\n",
    "    Y_hat = X2 * b + a\n",
    "    plt.scatter(X, Y, alpha=0.3) # Plot the raw data\n",
    "    plt.plot(X2, Y_hat, 'r', alpha=0.9);  # Add the regression line, colored in red\n",
    "    plt.xlabel('X Value')\n",
    "    plt.ylabel('Y Value')\n",
    "    return model.summary()"
   ]
  }
 ],
 "metadata": {
  "kernelspec": {
   "display_name": "Python 2",
   "language": "python",
   "name": "python2"
  },
  "language_info": {
   "codemirror_mode": {
    "name": "ipython",
    "version": 2
   },
   "file_extension": ".py",
   "mimetype": "text/x-python",
   "name": "python",
   "nbconvert_exporter": "python",
   "pygments_lexer": "ipython2",
   "version": "2.7.12"
  }
 },
 "nbformat": 4,
 "nbformat_minor": 2
}